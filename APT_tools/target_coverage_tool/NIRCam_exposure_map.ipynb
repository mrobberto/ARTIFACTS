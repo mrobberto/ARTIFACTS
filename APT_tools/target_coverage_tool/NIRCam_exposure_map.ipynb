{
 "cells": [
  {
   "cell_type": "markdown",
   "metadata": {},
   "source": [
    "# Plot and compute NIRCam imaging exposure map\n",
    "\n",
    "using .pointing file exported from APT\n",
    "\n",
    "for MODULE=ALL case\n",
    "\n",
    "Mario Gennaro  \n",
    "Dan Coe"
   ]
  },
  {
   "cell_type": "markdown",
   "metadata": {},
   "source": [
    "Updates desired:\n",
    "* automate PRD path definition to where it's installed\n",
    "* select observations to be plotted / ignore non-NIRCam\n",
    "\n",
    "Updates made:\n",
    "* depth in rectangular array, rather than MCMC\n",
    "* exposure colormap updated; 0 shows up as white, not black (to distinguish from 1)"
   ]
  },
  {
   "cell_type": "code",
   "execution_count": null,
   "metadata": {},
   "outputs": [],
   "source": [
    "import pandas as pd\n",
    "import numpy as np\n",
    "import os,glob,itertools\n",
    "from pysiaf.iando import read\n",
    "from pysiaf.utils import tools, compare\n",
    "from pysiaf import siaf,JwstAperture\n",
    "\n",
    "import matplotlib\n",
    "import matplotlib.pyplot as plt\n",
    "from matplotlib.path import Path\n",
    "import matplotlib.patches as patches\n",
    "from matplotlib import colors\n",
    "\n",
    "%matplotlib notebook\n",
    "\n",
    "plt.style.use('http://www.stsci.edu/~dcoe/matplotlibrc.txt')"
   ]
  },
  {
   "cell_type": "markdown",
   "metadata": {},
   "source": [
    "## User defined inputs"
   ]
  },
  {
   "cell_type": "code",
   "execution_count": null,
   "metadata": {},
   "outputs": [],
   "source": [
    "channel = 'SW'\n",
    "module = ['A','B']\n",
    "ref_aperture_name = 'NRCALL_FULL'\n",
    "\n",
    "pointing_file = '2198_2mosaics.pointing'\n",
    "observations = ['1']  # to be plotted (e.g., \"Obs 1\" in APT file)\n",
    "\n",
    "#ntrials_arcmin_sq = 100000  # this is the number per arcminute squared\n",
    "nx = ny = 1000  # samples along each axis for exposure map\n",
    "ntrials = nx * ny\n",
    "\n",
    "obs_string=observations[0]\n",
    "for i in range(1,len(observations)):\n",
    "    obs_string+='_'+observations[i]\n",
    "\n",
    "file_suffix = channel+'_'+obs_string\n",
    "print(file_suffix)"
   ]
  },
  {
   "cell_type": "markdown",
   "metadata": {},
   "source": [
    "## Global varaibles"
   ]
  },
  {
   "cell_type": "markdown",
   "metadata": {},
   "source": [
    "### Paths and filenames"
   ]
  },
  {
   "cell_type": "code",
   "execution_count": null,
   "metadata": {},
   "outputs": [],
   "source": [
    "### matplotlib stuff\n",
    "codes_one_sca = [Path.MOVETO,Path.LINETO,Path.LINETO,Path.LINETO,Path.CLOSEPOLY]"
   ]
  },
  {
   "cell_type": "markdown",
   "metadata": {},
   "source": [
    "### Pick the PRD version and get corresponding SIAF and subarray files"
   ]
  },
  {
   "cell_type": "code",
   "execution_count": null,
   "metadata": {},
   "outputs": [],
   "source": [
    "dirpath = '/path/to/PRD/data/'\n",
    "PRD = '/PRDOPSSOC-036/'\n",
    "siaf_file = dirpath+PRD+'/SIAFXML/SIAFXML/NIRCam_SIAF.xml'"
   ]
  },
  {
   "cell_type": "markdown",
   "metadata": {},
   "source": [
    "## Ingest the apertures in the right format"
   ]
  },
  {
   "cell_type": "markdown",
   "metadata": {},
   "source": [
    "### Read in the file into a pysiaf.siaf object"
   ]
  },
  {
   "cell_type": "code",
   "execution_count": null,
   "metadata": {},
   "outputs": [],
   "source": [
    "aperture_collection_1 = read.read_jwst_siaf(filename=siaf_file)\n",
    "siaf_object = siaf.Siaf('NIRCam')\n",
    "siaf_object.apertures = aperture_collection_1\n",
    "siaf_object.description = os.path.basename(siaf_file)\n",
    "siaf_object.observatory = 'JWST'"
   ]
  },
  {
   "cell_type": "markdown",
   "metadata": {},
   "source": [
    "### Pick the channel"
   ]
  },
  {
   "cell_type": "code",
   "execution_count": null,
   "metadata": {},
   "outputs": [],
   "source": [
    "if channel == 'SW':\n",
    "    scas = ['1','2','3','4']\n",
    "elif channel == 'LW':\n",
    "    scas = ['5']"
   ]
  },
  {
   "cell_type": "markdown",
   "metadata": {},
   "source": [
    "### Get the apertures"
   ]
  },
  {
   "cell_type": "code",
   "execution_count": null,
   "metadata": {},
   "outputs": [],
   "source": [
    "ap_names_list = ['NRC'+mod+sca+'_FULL' for mod in module for sca in scas]\n",
    "apertures = [siaf_object.apertures[apname] for apname in ap_names_list]\n",
    "\n",
    "ref_aperture = siaf_object.apertures[ref_aperture_name]\n",
    "print(ap_names_list)"
   ]
  },
  {
   "cell_type": "markdown",
   "metadata": {},
   "source": [
    "### Get the aperture corners in Ideal coordinates w.r.t. the refrence aperture\n",
    "\n",
    "The resulting list is a list of list of tuples, one list per sca, each sca list made up of 4 tuples for the 4 corners."
   ]
  },
  {
   "cell_type": "code",
   "execution_count": null,
   "metadata": {},
   "outputs": [],
   "source": [
    "corner_list = []\n",
    "for ap in apertures:\n",
    "    clist = []\n",
    "    cx_tel,cy_tel = ap.corners('tel')\n",
    "    \n",
    "    for tel_x,tel_y in zip(cx_tel,cy_tel):\n",
    "        idl_x,idl_y = ref_aperture.tel_to_idl(tel_x,tel_y)\n",
    "        clist.append((idl_x,idl_y))\n",
    "    corner_list.append(clist)"
   ]
  },
  {
   "cell_type": "code",
   "execution_count": null,
   "metadata": {},
   "outputs": [],
   "source": [
    "codes = []\n",
    "\n",
    "for sca in scas:\n",
    "    for mod in module:\n",
    "        codes.extend(codes_one_sca)"
   ]
  },
  {
   "cell_type": "code",
   "execution_count": null,
   "metadata": {},
   "outputs": [],
   "source": [
    "flattened_vertices = []\n",
    "flattened_vertices_per_sca = []\n",
    "path_per_sca = []\n",
    "\n",
    "for corners in corner_list:\n",
    "    corners_per_sca = []\n",
    "    for v in corners:\n",
    "        flattened_vertices.append([v[0],v[1]])\n",
    "        corners_per_sca.append([v[0],v[1]])\n",
    "    flattened_vertices.append([corners[0][0],corners[0][1]])\n",
    "    corners_per_sca.append(([corners[0][0],corners[0][1]]))\n",
    "    flattened_vertices_per_sca.append(corners_per_sca)\n",
    "    path_per_sca.append(Path(np.asarray(corners_per_sca), codes_one_sca)) \n",
    "    \n",
    "path=Path(np.asarray(flattened_vertices), codes)\n"
   ]
  },
  {
   "cell_type": "markdown",
   "metadata": {},
   "source": [
    "## Plot a single NIRCam pointing\n",
    "\n",
    "two different ways"
   ]
  },
  {
   "cell_type": "code",
   "execution_count": null,
   "metadata": {},
   "outputs": [],
   "source": [
    "plt.close(\"all\")\n",
    "f,ax = plt.subplots(1,1,figsize=(10,4))\n",
    "patch = patches.PathPatch(path, facecolor='orange', lw=2,alpha=0.8)\n",
    "\n",
    "ax.scatter(0,0,s=50,marker='H',c='r')\n",
    "ax.add_patch(patch);\n",
    "ax.axis('equal');"
   ]
  },
  {
   "cell_type": "code",
   "execution_count": null,
   "metadata": {},
   "outputs": [],
   "source": [
    "plt.close(\"all\")\n",
    "f,ax = plt.subplots(1,1,figsize=(10,4))\n",
    "\n",
    "for p in path_per_sca:\n",
    "    patch = patches.PathPatch(p, facecolor='orange', lw=2,alpha=0.8)\n",
    "    ax.add_patch(patch)\n",
    "\n",
    "ax.scatter(0,0,s=50,marker='H',c='r');\n",
    "ax.axis('equal');"
   ]
  },
  {
   "cell_type": "markdown",
   "metadata": {},
   "source": [
    "## Parse the pointing file to get the IdlX, IdlY offsets"
   ]
  },
  {
   "cell_type": "markdown",
   "metadata": {},
   "source": [
    "### Slice the pointing info by Observation (and if require by other levels of the multiindex, e.g. exposure - if you just want to deal with one filter)\n",
    "Remember, the levels are: ('Observation','Visit','Tar','Tile','Exp','Dith')"
   ]
  },
  {
   "cell_type": "code",
   "execution_count": null,
   "metadata": {},
   "outputs": [],
   "source": [
    "def read_pointing(filename, observations):\n",
    "\n",
    "    filename = pointing_file\n",
    "\n",
    "    names = 'Tar Tile Exp Dith Aperture Name Target RA Dec BaseX BaseY DithX DithY V2 V3 IdlX IdlY Level Type ExPar DkPar dDist'.split()          \n",
    "\n",
    "    df = pd.DataFrame(columns=['Observation','Visit']+names)\n",
    "    df = df.set_index(['Observation','Visit','Tar','Tile','Exp','Dith'])\n",
    "\n",
    "    obs = None\n",
    "    vis = None\n",
    "    with open(filename) as fp:\n",
    "        for line in fp:\n",
    "            if line[:13] == '* Observation':\n",
    "                obs = line[13:].strip()\n",
    "                #print('Observation', obs)\n",
    "            if line[0] =='*' and '(Obs' in line:\n",
    "                obs = line.split('Obs')[-1].strip()[:-1]\n",
    "                #print('Obs', obs)\n",
    "            if line[:8] == '** Visit':\n",
    "                vis = line.strip().split(':')[1]\n",
    "                #print('Visit', vis)\n",
    "            #if (obs is not None) and (vis is not None):\n",
    "            if (obs in observations) and (vis is not None):\n",
    "                if (line[:3] != 'Tar') & (len(line) > 100):\n",
    "                    _list = line.split()\n",
    "                    if _list[-1] == '(base)':\n",
    "                        _list = _list[:-1]\n",
    "                    df.loc[(obs,vis,_list[0],_list[1],_list[2],_list[3]),:] = _list[4:]\n",
    "\n",
    "    return df"
   ]
  },
  {
   "cell_type": "code",
   "execution_count": null,
   "metadata": {},
   "outputs": [],
   "source": [
    "df = read_pointing(pointing_file, observations)\n",
    "myindex = pd.IndexSlice['1',:,:,:,'1',:]\n",
    "\n",
    "#myindex = pd.IndexSlice[observation,:,:,:,:,:]\n",
    "\n",
    "df.loc[myindex,:]"
   ]
  },
  {
   "cell_type": "code",
   "execution_count": null,
   "metadata": {},
   "outputs": [],
   "source": [
    "dith_X = df.loc[myindex,['IdlX']].values\n",
    "dith_Y = df.loc[myindex,['IdlY']].values\n",
    "\n",
    "full_dithers_list = []\n",
    "for dx,dy in zip(dith_X,dith_Y):\n",
    "    dx_f = np.float_(dx[0])\n",
    "    dy_f = np.float_(dy[0])\n",
    "    full_dithers_list.append((dx_f,dy_f))"
   ]
  },
  {
   "cell_type": "markdown",
   "metadata": {},
   "source": [
    "## Combine apertures and dithers"
   ]
  },
  {
   "cell_type": "markdown",
   "metadata": {},
   "source": [
    "### For each dither position, create a list of corners, shifted by (d_idlX, d_idlY)\n",
    "\n",
    "Also use this loop to get the minmax (x,y) for the montecarlo"
   ]
  },
  {
   "cell_type": "code",
   "execution_count": null,
   "metadata": {},
   "outputs": [],
   "source": [
    "path_list = []\n",
    "path_per_sca_list = []\n",
    "\n",
    "min_x, max_x, min_y, max_y =0.,0.,0.,0.\n",
    "\n",
    "for dither in full_dithers_list:\n",
    "    flattened_vertices = [] \n",
    "    path_per_sca = []\n",
    "    for corners in corner_list:\n",
    "        flattened_vertices_per_sca = []\n",
    "        for v in corners:\n",
    "            x,y = v[0]+dither[0],v[1]+dither[1]\n",
    "            flattened_vertices.append([x,y])\n",
    "            flattened_vertices_per_sca.append([x,y])\n",
    "            if x < min_x:\n",
    "                min_x = x\n",
    "            if x > max_x:\n",
    "                max_x = x\n",
    "            if y < min_y:\n",
    "                min_y = y\n",
    "            if y > max_y:\n",
    "                max_y = y\n",
    "            \n",
    "        flattened_vertices.append([corners[0][0]+dither[0],corners[0][1]+dither[1]]) \n",
    "        flattened_vertices_per_sca.append([corners[0][0]+dither[0],corners[0][1]+dither[1]]) \n",
    "        \n",
    "        path_per_sca.append(Path(np.asarray(flattened_vertices_per_sca), codes_one_sca))\n",
    "    path_list.append(Path(np.asarray(flattened_vertices), codes))\n",
    "    path_per_sca_list.append(path_per_sca)\n"
   ]
  },
  {
   "cell_type": "code",
   "execution_count": null,
   "metadata": {},
   "outputs": [],
   "source": [
    "print(min_x, max_x, min_y, max_y)\n",
    "\n",
    "total_area_arcmin_sqaured = (max_x-min_x)*(max_y-min_y)/3600.\n",
    "\n",
    "#ntrials = np.int_(ntrials_arcmin_sq*total_area_arcmin_sqaured)\n",
    "#print(ntrials_arcmin_sq,total_area_arcmin_sqaured,ntrials)\n",
    "\n",
    "print(total_area_arcmin_sqaured, ntrials)"
   ]
  },
  {
   "cell_type": "markdown",
   "metadata": {},
   "source": [
    "### Plot becasue it's nice"
   ]
  },
  {
   "cell_type": "markdown",
   "metadata": {},
   "source": [
    "#### Matplotlib patch codes"
   ]
  },
  {
   "cell_type": "code",
   "execution_count": null,
   "metadata": {},
   "outputs": [],
   "source": [
    "codes = []\n",
    "\n",
    "for sca in scas:\n",
    "    for mod in module:\n",
    "        codes.extend(codes_one_sca)"
   ]
  },
  {
   "cell_type": "markdown",
   "metadata": {},
   "source": [
    "### Plot the dithers\n",
    "\n",
    "as semi-transparent patches   \n",
    "no sampling computation required"
   ]
  },
  {
   "cell_type": "code",
   "execution_count": null,
   "metadata": {
    "scrolled": false
   },
   "outputs": [],
   "source": [
    "f,ax = plt.subplots(1,1,figsize=(8,6))\n",
    "#ax.scatter(0,0,s=50,marker='H',c='r');\n",
    "for p in path_list:\n",
    "    patch = patches.PathPatch(p, facecolor='k', alpha=4./len(path_list), edgecolor='None')\n",
    "    ax.add_patch(patch)\n",
    "ax.axis('equal')\n",
    "\n",
    "plt.xlabel('X Ideal (arcsec)')\n",
    "plt.ylabel('Y Ideal (arcsec)')\n",
    "\n",
    "#f.savefig('Coverage_Map_'+file_suffix+'.pdf')"
   ]
  },
  {
   "cell_type": "markdown",
   "metadata": {},
   "source": [
    "## Use a grid to compute the coverage"
   ]
  },
  {
   "cell_type": "code",
   "execution_count": null,
   "metadata": {},
   "outputs": [],
   "source": [
    "yyy, xxx = np.mgrid[min_y:max_y:ny*1j, min_x:max_x:nx*1j]\n",
    "P = np.array([xxx.ravel(), yyy.ravel()]).T"
   ]
  },
  {
   "cell_type": "code",
   "execution_count": null,
   "metadata": {},
   "outputs": [],
   "source": [
    "# calculate # exposures for each point in grid (takes a minute)\n",
    "exposed = []\n",
    "for i,p in enumerate(path_list):\n",
    "    exposed1 = p.contains_points(P)\n",
    "    exposed1.shape = ny, nx\n",
    "    exposed.append(exposed1)"
   ]
  },
  {
   "cell_type": "code",
   "execution_count": null,
   "metadata": {},
   "outputs": [],
   "source": [
    "exposed = np.array(exposed)\n",
    "n_exposures = np.sum(exposed, axis=0)\n",
    "nexp, counts = np.unique(n_exposures, return_counts=True)"
   ]
  },
  {
   "cell_type": "code",
   "execution_count": null,
   "metadata": {},
   "outputs": [],
   "source": [
    "# You may want to save the exposure map if it took a long time to calculate\n",
    "from astropy.io import fits\n",
    "fits.PrimaryHDU(n_exposures).writeto('exposure_map_'+file_suffix+'.fits', overwrite=True)"
   ]
  },
  {
   "cell_type": "code",
   "execution_count": null,
   "metadata": {},
   "outputs": [],
   "source": [
    "print('exposures, percentage, area (sq arcmin)')\n",
    "for iexp in nexp:\n",
    "    frac = counts[iexp] / np.sum(counts)\n",
    "    print(iexp, ' %2d%%' % np.round(100*frac), '%4.1f' % (counts[iexp]/ntrials*total_area_arcmin_sqaured))\n",
    "    if frac > 0.01:\n",
    "        max_exp = iexp"
   ]
  },
  {
   "cell_type": "code",
   "execution_count": null,
   "metadata": {},
   "outputs": [],
   "source": [
    "f,ax = plt.subplots(1,1,figsize=(9,6))\n",
    "\n",
    "cmap = plt.cm.gnuplot\n",
    "cmap = plt.cm.CMRmap_r\n",
    "norm = colors.BoundaryNorm(np.arange(-0.5, max_exp+1), cmap.N)\n",
    "\n",
    "#scatter = ax.scatter(P[BM,0],P[BM,1], c=n_exps[BM], cmap=cmap,norm=norm, s=1, edgecolor='none')\n",
    "extent = min_x, max_x, min_y, max_y\n",
    "im = plt.imshow(n_exposures, cmap=cmap, extent=extent, norm=norm)\n",
    "colorbar = f.colorbar(im, ticks=np.arange(max_exp+1))\n",
    "colorbar.set_label('Exposures', rotation=90, labelpad=10)\n",
    "\n",
    "ax.axis('equal')\n",
    "plt.ylim(1.2*min_y, 1.2*max_y)  # add some whitespace margin around exposure map\n",
    "\n",
    "plt.xlabel('X Ideal (arcsec)')\n",
    "plt.ylabel('Y Ideal (arcsec)')\n",
    "\n",
    "f.savefig('exposure_map_'+file_suffix+'.png')"
   ]
  },
  {
   "cell_type": "code",
   "execution_count": null,
   "metadata": {},
   "outputs": [],
   "source": []
  }
 ],
 "metadata": {
  "kernelspec": {
   "display_name": "Python 3",
   "language": "python",
   "name": "python3"
  },
  "language_info": {
   "codemirror_mode": {
    "name": "ipython",
    "version": 3
   },
   "file_extension": ".py",
   "mimetype": "text/x-python",
   "name": "python",
   "nbconvert_exporter": "python",
   "pygments_lexer": "ipython3",
   "version": "3.8.8"
  },
  "toc": {
   "base_numbering": 1,
   "nav_menu": {},
   "number_sections": true,
   "sideBar": true,
   "skip_h1_title": true,
   "title_cell": "Table of Contents",
   "title_sidebar": "Contents",
   "toc_cell": false,
   "toc_position": {},
   "toc_section_display": true,
   "toc_window_display": true
  }
 },
 "nbformat": 4,
 "nbformat_minor": 4
}
